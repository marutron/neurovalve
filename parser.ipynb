{
 "cells": [
  {
   "cell_type": "code",
   "execution_count": 1,
   "id": "cb3f0300",
   "metadata": {},
   "outputs": [],
   "source": [
    "import requests\n",
    "import json"
   ]
  },
  {
   "cell_type": "code",
   "execution_count": null,
   "id": "a35a9072",
   "metadata": {},
   "outputs": [],
   "source": [
    "log = \"\"\n",
    "pwd = \"\"\n",
    "auth_resp = requests.get(f\"https://registrator-mic-back.venom56.ru/authenticate?login={log}&password={pwd}\")\n",
    "coocies = auth_resp.headers[\"Set-Cookie\"]\n",
    "coocies_split = coocies.split(\"; \")\n",
    "token = coocies_split[0]\n",
    "\n",
    "dt_from = \"2025-07-09T06:41:00Z\"\n",
    "dt_to = \"2025-07-09T06:42:00Z\"\n",
    "\n",
    "interval_url = f\"https://registrator-mic-back.venom56.ru/get_interval_data?id=2025032300&from={dt_from}&to={dt_to}&interval={interval}&num_intervals=40\"\n",
    "headers = {\"Cookie\": token}\n",
    "\n",
    "# data_dict необходим для отслеживания времени\n",
    "data_dict = dict()\n",
    "dataset = []\n",
    "\n",
    "for interval in range(0, 40):\n",
    "    interval_txt = requests.get(url=interval_url, headers=headers).text\n",
    "    interval_data = json.loads(interval_txt)[\"data-by-timestamp\"]\n",
    "    for key, val in interval_data.items():\n",
    "        data_dict.setdefault(key, []).append(val[\"Value\"])\n",
    "        \n",
    "for val in data_dict.values():\n",
    "    dataset.extend(val)\n",
    "    \n",
    "print(dataset)\n",
    "\n",
    "\n"
   ]
  }
 ],
 "metadata": {
  "kernelspec": {
   "display_name": "Python 3 (ipykernel)",
   "language": "python",
   "name": "python3"
  },
  "language_info": {
   "codemirror_mode": {
    "name": "ipython",
    "version": 3
   },
   "file_extension": ".py",
   "mimetype": "text/x-python",
   "name": "python",
   "nbconvert_exporter": "python",
   "pygments_lexer": "ipython3",
   "version": "3.11.2"
  }
 },
 "nbformat": 4,
 "nbformat_minor": 5
}
