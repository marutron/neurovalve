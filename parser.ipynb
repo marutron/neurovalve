{
 "cells": [
  {
   "cell_type": "code",
   "execution_count": 2,
   "id": "cb3f0300",
   "metadata": {},
   "outputs": [
    {
     "data": {
      "text/plain": [
       "True"
      ]
     },
     "execution_count": 2,
     "metadata": {},
     "output_type": "execute_result"
    }
   ],
   "source": [
    "from dotenv import load_dotenv\n",
    "import os\n",
    "import requests\n",
    "import json\n",
    "import matplotlib.pyplot as plt\n",
    "\n",
    "load_dotenv()"
   ]
  },
  {
   "cell_type": "code",
   "execution_count": 3,
   "id": "a35a9072",
   "metadata": {},
   "outputs": [
    {
     "name": "stdout",
     "output_type": "stream",
     "text": [
      "<Response [200]>\n"
     ]
    }
   ],
   "source": [
    "log = os.getenv(\"login\")\n",
    "pwd = os.getenv(\"password\")\n",
    "auth_resp = requests.get(f\"https://registrator-mic-back.venom56.ru/authenticate?login={log}&password={pwd}\")\n",
    "print(auth_resp)\n",
    "coocies = auth_resp.headers[\"Set-Cookie\"]\n",
    "coocies_split = coocies.split(\"; \")\n",
    "token = coocies_split[0]\n",
    "point_count = 40\n",
    "\n",
    "\n"
   ]
  },
  {
   "cell_type": "code",
   "execution_count": 6,
   "id": "10c6251d",
   "metadata": {},
   "outputs": [
    {
     "name": "stdout",
     "output_type": "stream",
     "text": [
      "Образец сырого ответа функции get_interval_data\n",
      "{\"data-by-timestamp\":{\"2025-07-09T11:44:30+05:00\":{\"SDCardState\":0,\"NumOfIntervals\":40,\"WidthOfIntervals\":50,\"IntervalIdx\":0,\"Value\":0.000026332815},\"2025-07-09T11:44:32+05:00\":{\"SDCardState\":0,\"NumOfIntervals\":40,\"WidthOfIntervals\":50,\"IntervalIdx\":0,\"Value\":0.000024049448},\"2025-07-09T11:44:34+05:00\":{\"SDCardState\":0,\"NumOfIntervals\":40,\"WidthOfIntervals\":50,\"IntervalIdx\":0,\"Value\":0.00002696647},\"2025-07-09T11:44:36+05:00\":{\"SDCardState\":0,\"NumOfIntervals\":40,\"WidthOfIntervals\":50,\"IntervalIdx\":0,\"Value\":0.00020646684},\"2025-07-09T11:44:38+05:00\":{\"SDCardState\":0,\"NumOfIntervals\":40,\"WidthOfIntervals\":50,\"IntervalIdx\":0,\"Value\":0.00024418693},\"2025-07-09T11:44:40+05:00\":{\"SDCardState\":0,\"NumOfIntervals\":40,\"WidthOfIntervals\":50,\"IntervalIdx\":0,\"Value\":0.00023681002},\"2025-07-09T11:44:42+05:00\":{\"SDCardState\":0,\"NumOfIntervals\":40,\"WidthOfIntervals\":50,\"IntervalIdx\":0,\"Value\":0.00023551636},\"2025-07-09T11:44:44+05:00\":{\"SDCardState\":0,\"NumOfIntervals\":40,\"WidthOfIntervals\":50,\"IntervalIdx\":0,\"Value\":0.00023824838},\"2025-07-09T11:44:46+05:00\":{\"SDCardState\":0,\"NumOfIntervals\":40,\"WidthOfIntervals\":50,\"IntervalIdx\":0,\"Value\":0.00023611165},\"2025-07-09T11:44:47+05:00\":{\"SDCardState\":0,\"NumOfIntervals\":40,\"WidthOfIntervals\":50,\"IntervalIdx\":0,\"Value\":0.00023824039},\"2025-07-09T11:44:49+05:00\":{\"SDCardState\":0,\"NumOfIntervals\":40,\"WidthOfIntervals\":50,\"IntervalIdx\":0,\"Value\":0.00020291172},\"2025-07-09T11:44:51+05:00\":{\"SDCardState\":0,\"NumOfIntervals\":40,\"WidthOfIntervals\":50,\"IntervalIdx\":0,\"Value\":0.000024627343}}}\n",
      "\n",
      "Ключи (отметки времени), полученные из запроса\n",
      "Каждому ключу соответствует 40 значений Value из 40-ка каналов\n",
      "dict_keys(['2025-07-09T11:44:30+05:00', '2025-07-09T11:44:32+05:00', '2025-07-09T11:44:34+05:00', '2025-07-09T11:44:36+05:00', '2025-07-09T11:44:38+05:00', '2025-07-09T11:44:40+05:00', '2025-07-09T11:44:42+05:00', '2025-07-09T11:44:44+05:00', '2025-07-09T11:44:46+05:00', '2025-07-09T11:44:47+05:00', '2025-07-09T11:44:49+05:00', '2025-07-09T11:44:51+05:00'])\n",
      "480\n"
     ]
    },
    {
     "data": {
      "text/plain": [
       "[<matplotlib.lines.Line2D at 0x7ff41c3086d0>]"
      ]
     },
     "execution_count": 6,
     "metadata": {},
     "output_type": "execute_result"
    },
    {
     "data": {
      "image/png": "[encoded data removed]",
      "text/plain": [
       "<Figure size 640x480 with 1 Axes>"
      ]
     },
     "metadata": {},
     "output_type": "display_data"
    }
   ],
   "source": [
    "dt_from = \"2025-07-09T06:44:30Z\"\n",
    "dt_to = \"2025-07-09T06:44:52Z\"\n",
    "\n",
    "interval = 0\n",
    "interval_url = f\"https://registrator-mic-back.venom56.ru/get_interval_data?id=2025032300&from={dt_from}&to={dt_to}&interval={interval}&num_intervals=40\"\n",
    "headers = {\"Cookie\": token}\n",
    "\n",
    "# data_dict необходим для отслеживания времени\n",
    "data_dict = dict()\n",
    "dataset = []\n",
    "\n",
    "example_response = requests.get(url=interval_url, headers=headers).text\n",
    "print(\"Образец сырого ответа функции get_interval_data\")\n",
    "print(example_response)\n",
    "\n",
    "for interval in range(0, point_count):\n",
    "    interval_txt = requests.get(url=interval_url, headers=headers).text\n",
    "    interval_data = json.loads(interval_txt)[\"data-by-timestamp\"]\n",
    "    for key, val in interval_data.items():\n",
    "        data_dict.setdefault(key, []).append(val[\"Value\"])\n",
    "print()\n",
    "print(\"Ключи (отметки времени), полученные из запроса\")\n",
    "print(\"Каждому ключу соответствует 40 значений Value из 40-ка каналов\")\n",
    "print(data_dict.keys())\n",
    "for val in data_dict.values():\n",
    "    assert(len(val) == point_count)\n",
    "    dataset.extend(val)\n",
    "    \n",
    "print(len(dataset))    \n",
    "plt.plot(dataset)\n"
   ]
  },
  {
   "cell_type": "code",
   "execution_count": null,
   "id": "ffff9afc",
   "metadata": {},
   "outputs": [],
   "source": []
  }
 ],
 "metadata": {
  "kernelspec": {
   "display_name": "Python 3 (ipykernel)",
   "language": "python",
   "name": "python3"
  },
  "language_info": {
   "codemirror_mode": {
    "name": "ipython",
    "version": 3
   },
   "file_extension": ".py",
   "mimetype": "text/x-python",
   "name": "python",
   "nbconvert_exporter": "python",
   "pygments_lexer": "ipython3",
   "version": "3.11.2"
  }
 },
 "nbformat": 4,
 "nbformat_minor": 5
}
