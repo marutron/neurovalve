{
 "cells": [
  {
   "cell_type": "code",
   "execution_count": 13,
   "id": "a478ca0a-ccbc-40d2-b920-5305e60e1d08",
   "metadata": {},
   "outputs": [],
   "source": [
    "import pandas as pd\n",
    "import numpy as np\n",
    "from scipy.signal import find_peaks\n",
    "from scipy.interpolate import interp1d\n",
    "import matplotlib.pyplot as plt\n",
    "from dotenv import load_dotenv\n",
    "import os"
   ]
  },
  {
   "cell_type": "code",
   "execution_count": 14,
   "id": "4ee2d1d6",
   "metadata": {},
   "outputs": [
    {
     "data": {
      "text/plain": [
       "True"
      ]
     },
     "execution_count": 14,
     "metadata": {},
     "output_type": "execute_result"
    }
   ],
   "source": [
    "load_dotenv()"
   ]
  },
  {
   "cell_type": "code",
   "execution_count": 15,
   "id": "0fc2493a-342b-4584-be68-214b666683b6",
   "metadata": {},
   "outputs": [],
   "source": [
    "def remove_duplicates(x: list[float], y: list[float]):\n",
    "    duplicates = []\n",
    "    for i in range(1, len(x)-1):\n",
    "        if x[i] == x[i-1]:\n",
    "            duplicates.append(i)\n",
    "        \n",
    "    for i in duplicates[::-1]:\n",
    "        x.pop(i)\n",
    "        y.pop(i)\n",
    "    return x, y"
   ]
  },
  {
   "cell_type": "code",
   "execution_count": 16,
   "id": "cdf65cdd",
   "metadata": {},
   "outputs": [],
   "source": [
    "def smouthener(x: list, y: list, r: int):\n",
    "    sm_x = []\n",
    "    sm_y = []\n",
    "    i = r\n",
    "    while i <= len(x)-r-1:\n",
    "        av_x = 0\n",
    "        av_y = 0\n",
    "        for j in range(0, r):\n",
    "            av_x += x[i-j]\n",
    "            av_y += y[i-j]\n",
    "        av_x /= r\n",
    "        av_y /=r\n",
    "        i += r\n",
    "\n",
    "        sm_x.append(av_x)\n",
    "        sm_y.append(av_y)\n",
    "    return sm_x, sm_y"
   ]
  },
  {
   "cell_type": "code",
   "execution_count": 19,
   "id": "bd9a79c7-1925-4368-a02c-1c627ef8ee3c",
   "metadata": {},
   "outputs": [
    {
     "data": {
      "text/plain": [
       "Text(0.5, 1.0, 'norm')"
      ]
     },
     "execution_count": 19,
     "metadata": {},
     "output_type": "execute_result"
    },
    {
     "data": {
      "image/png": "[encoded data removed]",
      "text/plain": [
       "<Figure size 640x480 with 1 Axes>"
      ]
     },
     "metadata": {},
     "output_type": "display_data"
    }
   ],
   "source": [
    "DATASET = os.getenv(\"DATASET\")+\"norm.csv\"\n",
    "df = pd.read_csv(DATASET, sep =\"|\")\n",
    "x, y = remove_duplicates(list(df.iloc[:, 0]), list(df.iloc[:, 1]))\n",
    "#plt.plot(x, y)\n",
    "\n",
    "x, y = smouthener(x, y, 5)\n",
    "#plt.plot(x, y, color=\"black\")\n",
    "\n",
    "interp = interp1d(x, y, kind=\"linear\")\n",
    "x = np.linspace(x[0], x[-1], num=1000)\n",
    "y = interp(x)\n",
    "\n",
    "plt.plot(x, y, color=\"black\")\n",
    "plt.title(\"norm\")\n",
    "\n"
   ]
  },
  {
   "cell_type": "code",
   "execution_count": null,
   "id": "86bed8ee-6876-46ad-9e4e-cfd1b3e3b9af",
   "metadata": {},
   "outputs": [],
   "source": []
  },
  {
   "cell_type": "code",
   "execution_count": null,
   "id": "be99ffee",
   "metadata": {},
   "outputs": [],
   "source": []
  }
 ],
 "metadata": {
  "kernelspec": {
   "display_name": "Python 3 (ipykernel)",
   "language": "python",
   "name": "python3"
  },
  "language_info": {
   "codemirror_mode": {
    "name": "ipython",
    "version": 3
   },
   "file_extension": ".py",
   "mimetype": "text/x-python",
   "name": "python",
   "nbconvert_exporter": "python",
   "pygments_lexer": "ipython3",
   "version": "3.11.2"
  }
 },
 "nbformat": 4,
 "nbformat_minor": 5
}
